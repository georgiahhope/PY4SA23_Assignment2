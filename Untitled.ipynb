{
 "cells": [
  {
   "cell_type": "markdown",
   "id": "cb0d199e-00d0-44a0-bd96-551176b27ed7",
   "metadata": {},
   "source": [
    "# Lab Assignment 2 - Georgia Hope\n",
    "200011079 \n",
    "https://github.com/georgiahhope/PY4SA23_Assignment2.git"
   ]
  },
  {
   "cell_type": "code",
   "execution_count": null,
   "id": "aec6dd90-3ca6-4721-bae8-695547af2031",
   "metadata": {},
   "outputs": [],
   "source": []
  }
 ],
 "metadata": {
  "kernelspec": {
   "display_name": "Python 3 (ipykernel)",
   "language": "python",
   "name": "python3"
  },
  "language_info": {
   "codemirror_mode": {
    "name": "ipython",
    "version": 3
   },
   "file_extension": ".py",
   "mimetype": "text/x-python",
   "name": "python",
   "nbconvert_exporter": "python",
   "pygments_lexer": "ipython3",
   "version": "3.10.9"
  }
 },
 "nbformat": 4,
 "nbformat_minor": 5
}
