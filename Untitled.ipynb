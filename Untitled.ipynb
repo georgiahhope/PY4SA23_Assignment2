{
 "cells": [
  {
   "cell_type": "markdown",
   "id": "cb0d199e-00d0-44a0-bd96-551176b27ed7",
   "metadata": {},
   "source": [
    "# Lab Assignment 2 - Georgia Hope\n",
    "200011079 \n",
    "https://github.com/georgiahhope/PY4SA23_Assignment2.git"
   ]
  },
  {
   "cell_type": "markdown",
   "id": "5eebda7e-0c1b-428c-a5cc-e7dd19d01450",
   "metadata": {},
   "source": [
    "## *Python Basics*"
   ]
  },
  {
   "cell_type": "markdown",
   "id": "67fa6773-3fe5-47e4-8694-52717b7067d7",
   "metadata": {},
   "source": [
    "## *Task 1*"
   ]
  },
  {
   "cell_type": "code",
   "execution_count": 13,
   "id": "07a1c116-420e-43da-a801-8955026795b6",
   "metadata": {},
   "outputs": [],
   "source": [
    "number=9"
   ]
  },
  {
   "cell_type": "code",
   "execution_count": 38,
   "id": "e26ce731-91ca-43c1-a33f-4bb1886c4944",
   "metadata": {},
   "outputs": [
    {
     "ename": "SyntaxError",
     "evalue": "invalid syntax (2507130061.py, line 3)",
     "output_type": "error",
     "traceback": [
      "\u001b[1;36m  Cell \u001b[1;32mIn[38], line 3\u001b[1;36m\u001b[0m\n\u001b[1;33m    else:\u001b[0m\n\u001b[1;37m    ^\u001b[0m\n\u001b[1;31mSyntaxError\u001b[0m\u001b[1;31m:\u001b[0m invalid syntax\n"
     ]
    }
   ],
   "source": [
    "if number % 3 == 0:\n",
    "    print(\"9 is divisible by three\")\n",
    "    else:\n",
    "        print(\"9 is not divisible by three\")"
   ]
  },
  {
   "cell_type": "markdown",
   "id": "8af277ac-9eb0-4d2d-8743-65e231d8bb93",
   "metadata": {},
   "source": [
    "### I used the % which is a modulus. This returns the remainer after division when the number is divided by 3. If the number is divisible by three the remainer will be 0 and so the if block is correct otherwise the else block is correct."
   ]
  },
  {
   "cell_type": "markdown",
   "id": "3c09e990-e4d1-4ce7-b335-2d1f0d29d5a5",
   "metadata": {},
   "source": [
    "## *Task 2*"
   ]
  },
  {
   "cell_type": "code",
   "execution_count": 39,
   "id": "50481832-8814-4070-841a-8827f7aea943",
   "metadata": {},
   "outputs": [],
   "source": [
    "fruits = [\"apple\", \"orange\", \"pear\", \"kiwi\", \"strawberry\"]"
   ]
  },
  {
   "cell_type": "code",
   "execution_count": 40,
   "id": "b49bdf4c-bc71-43dc-98a9-312dc9a12c6d",
   "metadata": {},
   "outputs": [],
   "source": [
    "fruit = \"strawberry\""
   ]
  },
  {
   "cell_type": "code",
   "execution_count": 41,
   "id": "b50fc73f-d6bd-4e4a-9747-1d2b98c38bba",
   "metadata": {},
   "outputs": [
    {
     "ename": "SyntaxError",
     "evalue": "invalid syntax (3525078948.py, line 3)",
     "output_type": "error",
     "traceback": [
      "\u001b[1;36m  Cell \u001b[1;32mIn[41], line 3\u001b[1;36m\u001b[0m\n\u001b[1;33m    else:\u001b[0m\n\u001b[1;37m    ^\u001b[0m\n\u001b[1;31mSyntaxError\u001b[0m\u001b[1;31m:\u001b[0m invalid syntax\n"
     ]
    }
   ],
   "source": [
    "if strawberry in fruits:\n",
    "    print(\"strawberry is acceptable\")\n",
    "    else:\n",
    "        print(\"strawberry is not acceptable\")"
   ]
  },
  {
   "cell_type": "code",
   "execution_count": null,
   "id": "caaa9c64-422b-4aec-b649-429317f63586",
   "metadata": {},
   "outputs": [],
   "source": []
  }
 ],
 "metadata": {
  "kernelspec": {
   "display_name": "Python 3 (ipykernel)",
   "language": "python",
   "name": "python3"
  },
  "language_info": {
   "codemirror_mode": {
    "name": "ipython",
    "version": 3
   },
   "file_extension": ".py",
   "mimetype": "text/x-python",
   "name": "python",
   "nbconvert_exporter": "python",
   "pygments_lexer": "ipython3",
   "version": "3.10.9"
  }
 },
 "nbformat": 4,
 "nbformat_minor": 5
}
