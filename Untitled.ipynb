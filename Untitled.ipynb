{
 "cells": [
  {
   "cell_type": "markdown",
   "id": "cb0d199e-00d0-44a0-bd96-551176b27ed7",
   "metadata": {},
   "source": [
    "# Lab Assignment 2 - Georgia Hope\n",
    "200011079 \n",
    "https://github.com/georgiahhope/PY4SA23_Assignment2.git"
   ]
  },
  {
   "cell_type": "markdown",
   "id": "5eebda7e-0c1b-428c-a5cc-e7dd19d01450",
   "metadata": {},
   "source": [
    "## *Python Basics*"
   ]
  },
  {
   "cell_type": "markdown",
   "id": "67fa6773-3fe5-47e4-8694-52717b7067d7",
   "metadata": {},
   "source": [
    "## *Task 1* \n",
    "Create an If...Else statement that will test whether a number is divisible by three. \"YOUR \n",
    "VALUE is divisible by 3\" should be printed if the value is divisible by three. \"YOUR VALUE is not \n",
    "divisible by three\" should be printed if it is not divisible by three. Test the statement on a numeric \n",
    "variable. Upper case text in the print statement should be replaced with the tested number."
   ]
  },
  {
   "cell_type": "code",
   "execution_count": null,
   "id": "07a1c116-420e-43da-a801-8955026795b6",
   "metadata": {},
   "outputs": [],
   "source": [
    "number=9 # replace with your own value to be tested"
   ]
  },
  {
   "cell_type": "code",
   "execution_count": 6,
   "id": "e26ce731-91ca-43c1-a33f-4bb1886c4944",
   "metadata": {},
   "outputs": [
    {
     "name": "stdout",
     "output_type": "stream",
     "text": [
      "9is divisible by three\n"
     ]
    }
   ],
   "source": [
    "if number % 3 == 0:\n",
    "    print(str(9) + \"is divisible by three\")\n",
    "else:\n",
    "    print(str(9) + \"is not divisible by three\")\n",
    "     \n"
   ]
  },
  {
   "cell_type": "markdown",
   "id": "8af277ac-9eb0-4d2d-8743-65e231d8bb93",
   "metadata": {
    "tags": []
   },
   "source": [
    "### I used the % which is a modulus. This returns the remainer after division when the number is divided by 3. If the number is divisible by three the remainer will be 0 and so the 'if' block is correct otherwise the 'else' block is correct."
   ]
  },
  {
   "cell_type": "markdown",
   "id": "3c09e990-e4d1-4ce7-b335-2d1f0d29d5a5",
   "metadata": {},
   "source": [
    "## *Task 2*\n",
    "Create an If...Else statement that will test whether a type of fruit, represented as a text string, \n",
    "is in a list of acceptable fruits (apple, orange, pear, kiwi, or strawberry). If the fruit is on the list, the \n",
    "following should be printed: \"YOUR FRUIT is acceptable.\" If not, then the following should be \n",
    "printed: \"YOUR FRUIT is not acceptable.\" Upper case text in the print statement should be replaced \n",
    "with the tested fruit."
   ]
  },
  {
   "cell_type": "code",
   "execution_count": 29,
   "id": "50481832-8814-4070-841a-8827f7aea943",
   "metadata": {},
   "outputs": [],
   "source": [
    "fruit = \"strawberry\" # replace with your own fruit to be tested\n",
    "acceptable_fruits = [\"apple\", \"orange\", \"pear\", \"kiwi\", \"strawberry\"] # A list of strings"
   ]
  },
  {
   "cell_type": "code",
   "execution_count": 40,
   "id": "b50fc73f-d6bd-4e4a-9747-1d2b98c38bba",
   "metadata": {},
   "outputs": [
    {
     "name": "stdout",
     "output_type": "stream",
     "text": [
      "strawberryis acceptable\n"
     ]
    }
   ],
   "source": [
    "if fruit in acceptable_fruits:\n",
    "    print(str(fruit) + \"is acceptable\")\n",
    "else:\n",
    "    print(str(fruit) + \"is not acceptable\")"
   ]
  },
  {
   "cell_type": "markdown",
   "id": "f2cdbb52-1b15-4d87-be6e-2ed33d52af95",
   "metadata": {},
   "source": [
    "### I definied the list of acceptable_fruits that contains the fruits that would be acceptable. The variable 'fruit' defines the the type of fruit being tested which is strawberry. the If...Else statements tests whether the fruit is accpetable."
   ]
  },
  {
   "cell_type": "markdown",
   "id": "a0017c6f-5c0f-4b80-b66b-689c64234246",
   "metadata": {},
   "source": [
    "## *Task 3*\n",
    "Create a function to calculate the distance between two coordinates using the haversine\n",
    "formula. Write the following formula where the input parameters are a pair of coordinates as two \n",
    "lists"
   ]
  },
  {
   "cell_type": "code",
   "execution_count": null,
   "id": "8f5742e2-251b-42a8-8bd7-4abb22adaa38",
   "metadata": {},
   "outputs": [],
   "source": []
  }
 ],
 "metadata": {
  "kernelspec": {
   "display_name": "Python 3 (ipykernel)",
   "language": "python",
   "name": "python3"
  },
  "language_info": {
   "codemirror_mode": {
    "name": "ipython",
    "version": 3
   },
   "file_extension": ".py",
   "mimetype": "text/x-python",
   "name": "python",
   "nbconvert_exporter": "python",
   "pygments_lexer": "ipython3",
   "version": "3.10.9"
  }
 },
 "nbformat": 4,
 "nbformat_minor": 5
}
